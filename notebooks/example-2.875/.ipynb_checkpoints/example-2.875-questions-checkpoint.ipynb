{
 "cells": [
  {
   "cell_type": "markdown",
   "id": "983bcf18-15e5-4d8f-b3e0-d4d8bf52287c",
   "metadata": {},
   "source": [
    "Example 2.875\n",
    "============\n",
    "\n",
    "This notebook is available on github\n",
    "[here](https://github.com/aezarebski/aas-extended-examples). If you find\n",
    "errors or would like to suggest an improvement, feel free to create an\n",
    "issue.\n",
    "\n",
    "As usual we will start by importing some useful libraries."
   ]
  },
  {
   "cell_type": "code",
   "execution_count": 1,
   "id": "dc37adb0-f888-41ef-bbf1-d06dc7c89b24",
   "metadata": {},
   "outputs": [],
   "source": [
    "%matplotlib inline\n",
    "import pandas as pd\n",
    "import numpy as np\n",
    "import scipy.stats as stats\n",
    "import statsmodels.api as sm\n",
    "import statsmodels.formula.api as smf\n",
    "import matplotlib.pyplot as plt"
   ]
  },
  {
   "cell_type": "markdown",
   "id": "05477a0f-2b1d-4682-83ef-a4d49dac2d4c",
   "metadata": {},
   "source": [
    "In this notebook we will look at data on the mode of travel chosen by people travelling between Sydney and Melbourne (Australia). Relevant variables for us in this dataset are the mode of travel chosen: air, bus, car or train, the travel time, the generalised cost of the journey, the income of the household travelling and the number of people travelling together."
   ]
  },
  {
   "cell_type": "code",
   "execution_count": 2,
   "id": "50945dac-5eec-4aa3-a0a7-e196b25ded39",
   "metadata": {},
   "outputs": [],
   "source": [
    "travel_dataset = sm.datasets.get_rdataset(\"TravelMode\", \"AER\")\n",
    "#print(travel_dataset.__doc__)\n",
    "travel_df = travel_dataset.data"
   ]
  },
  {
   "cell_type": "markdown",
   "id": "96ea37e2-4242-446f-9c33-b3220193d30b",
   "metadata": {},
   "source": [
    "### Question\n",
    "\n",
    "What units is `income` in?"
   ]
  },
  {
   "cell_type": "markdown",
   "id": "40af2b41-fe24-480a-b10f-c145f88e2eda",
   "metadata": {},
   "source": [
    "As a first pass we will look at modelling whether the selected mode was a train or car. The following snippet puts the data in a more tidy format for our analysis. Note that we have added a new variable, `is_car`, which is 1 if the travel was done by car and 0 if it was done by train."
   ]
  },
  {
   "cell_type": "code",
   "execution_count": 3,
   "id": "a70ee847-5da0-4b04-817f-13d19636e562",
   "metadata": {},
   "outputs": [
    {
     "name": "stdout",
     "output_type": "stream",
     "text": [
      "   vehicle  income  num_people  is_car\n",
      "3      car      35           1       1\n",
      "7      car      30           2       1\n",
      "11     car      40           1       1\n",
      "15     car      70           3       1\n",
      "19     car      45           2       1\n",
      "21   train      20           1       0\n",
      "31     car      12           1       1\n",
      "35     car      40           1       1\n",
      "39     car      70           2       1\n",
      "43     car      15           2       1\n"
     ]
    }
   ],
   "source": [
    "cb_df = travel_df[(travel_df[\"mode\"] == \"train\") | (travel_df[\"mode\"] == \"car\")]\n",
    "cb_df = cb_df[cb_df[\"choice\"] == \"yes\"]\n",
    "cb_df = cb_df[[\"mode\", \"income\", \"size\"]]\n",
    "cb_df = cb_df.rename(columns={\"mode\": \"vehicle\", \"size\": \"num_people\"})\n",
    "\n",
    "predictor_names = [\"income\", \"num_people\"]\n",
    "\n",
    "cb_df[\"is_car\"] = 0\n",
    "cb_df.loc[cb_df[\"vehicle\"] == \"car\",\"is_car\"] = 1\n",
    "print(cb_df.head(10))"
   ]
  },
  {
   "cell_type": "markdown",
   "id": "73c388c9-feb9-4e26-b3fb-2d34651a93f9",
   "metadata": {},
   "source": [
    "### Question\n",
    "\n",
    "Generate visualisations to see how the distribution of income among car and train trips. What do you notice?\n",
    "\n",
    "[hint](https://aezarebski.github.io/misc/matplotlib/gallery.html#fig-06)"
   ]
  },
  {
   "cell_type": "code",
   "execution_count": 13,
   "id": "70c8ab12-a9ac-4814-afa0-c49914268601",
   "metadata": {},
   "outputs": [
    {
     "data": {
      "image/png": "[encoded data removed]",
      "text/plain": [
       "<Figure size 432x288 with 1 Axes>"
      ]
     },
     "metadata": {
      "needs_background": "light"
     },
     "output_type": "display_data"
    }
   ],
   "source": [
    "my_slice = cb_df['is_car'] == 1\n",
    "\n",
    "plt.figure()\n",
    "plt.scatter(cb_df[my_slice]['num_people'],cb_df[my_slice]['income'],color = 'r', label = 'car')\n",
    "plt.scatter(cb_df[my_slice == False]['num_people'],cb_df[my_slice == False]['income'],color = 'b', label = 'train')\n",
    "plt.legend()\n",
    "plt.show()"
   ]
  },
  {
   "cell_type": "markdown",
   "id": "77e96d7f-064b-4e19-b964-383a6ca55885",
   "metadata": {},
   "source": [
    "### Question\n",
    "\n",
    "Fit a logistic regression model to this data. Do the estimated coefficients make sense?\n",
    "\n",
    "[hint](https://www.statsmodels.org/stable/generated/statsmodels.formula.api.logit.html#statsmodels.formula.api.logit)"
   ]
  },
  {
   "cell_type": "code",
   "execution_count": 23,
   "id": "b8c9c5a1-e335-49dd-bfce-c7cc1e608140",
   "metadata": {},
   "outputs": [
    {
     "name": "stdout",
     "output_type": "stream",
     "text": [
      "Optimization terminated successfully.\n",
      "         Current function value: 0.560467\n",
      "         Iterations 6\n"
     ]
    },
    {
     "data": {
      "text/html": [
       "<table class=\"simpletable\">\n",
       "<caption>Logit Regression Results</caption>\n",
       "<tr>\n",
       "  <th>Dep. Variable:</th>        <td>is_car</td>      <th>  No. Observations:  </th>  <td>   122</td>  \n",
       "</tr>\n",
       "<tr>\n",
       "  <th>Model:</th>                 <td>Logit</td>      <th>  Df Residuals:      </th>  <td>   119</td>  \n",
       "</tr>\n",
       "<tr>\n",
       "  <th>Method:</th>                 <td>MLE</td>       <th>  Df Model:          </th>  <td>     2</td>  \n",
       "</tr>\n",
       "<tr>\n",
       "  <th>Date:</th>            <td>Thu, 25 Nov 2021</td> <th>  Pseudo R-squ.:     </th>  <td>0.1908</td>  \n",
       "</tr>\n",
       "<tr>\n",
       "  <th>Time:</th>                <td>10:30:12</td>     <th>  Log-Likelihood:    </th> <td> -68.377</td> \n",
       "</tr>\n",
       "<tr>\n",
       "  <th>converged:</th>             <td>True</td>       <th>  LL-Null:           </th> <td> -84.498</td> \n",
       "</tr>\n",
       "<tr>\n",
       "  <th>Covariance Type:</th>     <td>nonrobust</td>    <th>  LLR p-value:       </th> <td>9.968e-08</td>\n",
       "</tr>\n",
       "</table>\n",
       "<table class=\"simpletable\">\n",
       "<tr>\n",
       "       <td></td>         <th>coef</th>     <th>std err</th>      <th>z</th>      <th>P>|z|</th>  <th>[0.025</th>    <th>0.975]</th>  \n",
       "</tr>\n",
       "<tr>\n",
       "  <th>Intercept</th>  <td>   -2.2289</td> <td>    0.523</td> <td>   -4.263</td> <td> 0.000</td> <td>   -3.254</td> <td>   -1.204</td>\n",
       "</tr>\n",
       "<tr>\n",
       "  <th>income</th>     <td>    0.0566</td> <td>    0.013</td> <td>    4.399</td> <td> 0.000</td> <td>    0.031</td> <td>    0.082</td>\n",
       "</tr>\n",
       "<tr>\n",
       "  <th>num_people</th> <td>    0.1885</td> <td>    0.201</td> <td>    0.936</td> <td> 0.349</td> <td>   -0.206</td> <td>    0.583</td>\n",
       "</tr>\n",
       "</table>"
      ],
      "text/plain": [
       "<class 'statsmodels.iolib.summary.Summary'>\n",
       "\"\"\"\n",
       "                           Logit Regression Results                           \n",
       "==============================================================================\n",
       "Dep. Variable:                 is_car   No. Observations:                  122\n",
       "Model:                          Logit   Df Residuals:                      119\n",
       "Method:                           MLE   Df Model:                            2\n",
       "Date:                Thu, 25 Nov 2021   Pseudo R-squ.:                  0.1908\n",
       "Time:                        10:30:12   Log-Likelihood:                -68.377\n",
       "converged:                       True   LL-Null:                       -84.498\n",
       "Covariance Type:            nonrobust   LLR p-value:                 9.968e-08\n",
       "==============================================================================\n",
       "                 coef    std err          z      P>|z|      [0.025      0.975]\n",
       "------------------------------------------------------------------------------\n",
       "Intercept     -2.2289      0.523     -4.263      0.000      -3.254      -1.204\n",
       "income         0.0566      0.013      4.399      0.000       0.031       0.082\n",
       "num_people     0.1885      0.201      0.936      0.349      -0.206       0.583\n",
       "==============================================================================\n",
       "\"\"\""
      ]
     },
     "execution_count": 23,
     "metadata": {},
     "output_type": "execute_result"
    }
   ],
   "source": [
    "logistic_model = smf.logit(\"is_car ~ income + num_people\", cb_df).fit()\n",
    "logistic_model.summary()"
   ]
  },
  {
   "cell_type": "markdown",
   "id": "6f060d40-d52c-44f6-811f-0aa9b27d5c47",
   "metadata": {
    "tags": []
   },
   "source": [
    "### Question\n",
    "\n",
    "For a fixed income, what change does the model predict for each additional person on the journey? What happens to the odds, what happens to the log-odds?"
   ]
  },
  {
   "cell_type": "markdown",
   "id": "fbe09403-86cc-465b-a924-917777ff9b81",
   "metadata": {},
   "source": [
    "Key idea here is that the 'odds' are p/(1-p) and 'log-odds' are ln(p/(1-p), so log-odds = f(x) and odds = e^f(x). Thus an increase in f(x) adds to log-odds but multiplies with odds."
   ]
  },
  {
   "cell_type": "markdown",
   "id": "9d9aef60-5d6f-4ec2-8347-bcde74b94312",
   "metadata": {},
   "source": [
    "### Question\n",
    "\n",
    "Write functions for logit and its inverse called `logit` and `inv_logit`.\n",
    "\n",
    "[Hint](https://en.wikipedia.org/wiki/Logit#Definition)"
   ]
  },
  {
   "cell_type": "code",
   "execution_count": 21,
   "id": "b7aa348b-8fa6-4e0b-ba42-3c9094e2dfae",
   "metadata": {},
   "outputs": [],
   "source": [
    "def logit(p):\n",
    "    return np.log(p/(1-p))\n",
    "\n",
    "def inv_logit(a):\n",
    "    return np.exp(a) / (np.exp(a) + 1)"
   ]
  },
  {
   "cell_type": "markdown",
   "id": "c9a42f06-29cb-4327-a63f-4b34a9994be4",
   "metadata": {},
   "source": [
    "The following snippet demonstrates one way to visualise the results of the model fit. If you have defined `logit` and `inv_logit` above this should make a sensible figure..."
   ]
  },
  {
   "cell_type": "code",
   "execution_count": 24,
   "id": "7841dadf-b8cf-485b-800a-70185e2632e0",
   "metadata": {},
   "outputs": [
    {
     "data": {
      "image/png": "[encoded data removed]",
      "text/plain": [
       "<Figure size 432x288 with 1 Axes>"
      ]
     },
     "metadata": {
      "needs_background": "light"
     },
     "output_type": "display_data"
    }
   ],
   "source": [
    "prob_is_car = logistic_model.predict()\n",
    "log_odds_is_car = logit(prob_is_car)\n",
    "\n",
    "plt.figure()\n",
    "plt.scatter(log_odds_is_car, prob_is_car, label=\"Logistic regression\")\n",
    "plt.scatter(log_odds_is_car, cb_df[\"is_car\"], label = \"Data\")\n",
    "plt.legend()\n",
    "plt.show()"
   ]
  },
  {
   "cell_type": "markdown",
   "id": "a0bbb21a-de38-4068-8f36-7976c46c8f00",
   "metadata": {
    "tags": []
   },
   "source": [
    "### Question\n",
    "\n",
    "For journeys with 2 people, plot the probability of going by car (as opposed to train) as a function of household income. Use this figure to find out the income at which it becomes more likely they will travel by car."
   ]
  },
  {
   "cell_type": "code",
   "execution_count": 28,
   "id": "00e329cd-0c49-47c8-84f1-3e62b5c48251",
   "metadata": {},
   "outputs": [
    {
     "data": {
      "image/png": "[encoded data removed]",
      "text/plain": [
       "<Figure size 432x288 with 1 Axes>"
      ]
     },
     "metadata": {
      "needs_background": "light"
     },
     "output_type": "display_data"
    },
    {
     "name": "stdout",
     "output_type": "stream",
     "text": [
      "This ought to occur at\n",
      "-2.2289 + 0.0566 * income + 0.1885 * num_people = 0\n",
      "32.71908127208481\n"
     ]
    }
   ],
   "source": [
    "sub_df = cb_df[cb_df['num_people'] == 2]\n",
    "prob_is_car = logistic_model.predict(sub_df)\n",
    "log_odds_is_car = logit(prob_is_car)\n",
    "\n",
    "plt.figure()\n",
    "plt.scatter(sub_df['income'], prob_is_car, label=\"Logistic regression\")\n",
    "plt.legend()\n",
    "plt.show()\n",
    "\n",
    "print('This ought to occur at')\n",
    "print('-2.2289 + 0.0566 * income + 0.1885 * num_people = 0')\n",
    "print(f'{(2.2289 - 0.1885 * 2)/(0.0566)}')"
   ]
  },
  {
   "cell_type": "markdown",
   "id": "5a60e6f2-5b2d-441f-960c-11ace482738b",
   "metadata": {
    "tags": []
   },
   "source": [
    "### Question\n",
    "\n",
    "Plot the probability of going by car for 1, 2, and 3 people as a function of income. What do you notice about the change in the probability as a function of income?"
   ]
  },
  {
   "cell_type": "code",
   "execution_count": 35,
   "id": "2b2d7cc1-a892-49ea-9920-abf6eded3d0f",
   "metadata": {},
   "outputs": [
    {
     "data": {
      "image/png": "[encoded data removed]",
      "text/plain": [
       "<Figure size 432x288 with 1 Axes>"
      ]
     },
     "metadata": {
      "needs_background": "light"
     },
     "output_type": "display_data"
    }
   ],
   "source": [
    "colors = ['r','g','b']\n",
    "x = np.linspace(10,70)\n",
    "\n",
    "def predict(model,x,i):\n",
    "    f = model.params.Intercept + model.params.num_people * i + model.params.income * x\n",
    "    return inv_logit(f)\n",
    "\n",
    "plt.figure()\n",
    "for i in range(1,4):\n",
    "    prob_is_car = predict(logistic_model,x,i)\n",
    "    plt.plot(x, prob_is_car, label=i,color = colors[i-1])\n",
    "plt.axhline(0.5, color='black')\n",
    "plt.legend()\n",
    "plt.show()"
   ]
  },
  {
   "cell_type": "markdown",
   "id": "290115af-a5c7-44bb-aa4f-697de27601f6",
   "metadata": {},
   "source": [
    "## Bonus Example: Multiple logistic regression\n",
    "\n",
    "### Question\n",
    "\n",
    "Set up a multiple logistic regression model to predict the mode of transport used based on all of the data."
   ]
  },
  {
   "cell_type": "code",
   "execution_count": 36,
   "id": "758c1ae2-001a-4076-b19d-f901830aa4d8",
   "metadata": {},
   "outputs": [
    {
     "data": {
      "text/plain": [
       "train    63\n",
       "car      59\n",
       "air      58\n",
       "bus      30\n",
       "Name: vehicle, dtype: int64"
      ]
     },
     "execution_count": 36,
     "metadata": {},
     "output_type": "execute_result"
    }
   ],
   "source": [
    "all_df = travel_df[travel_df[\"choice\"] == \"yes\"]\n",
    "all_df = all_df[[\"mode\", \"income\", \"size\"]]\n",
    "all_df = all_df.rename(columns={\"mode\": \"vehicle\", \"size\": \"num_people\"})\n",
    "\n",
    "all_df[\"vehicle_int\"] = 0\n",
    "all_df.loc[all_df[\"vehicle\"] == \"air\",\"vehicle_int\"] = 1\n",
    "all_df.loc[all_df[\"vehicle\"] == \"bus\",\"vehicle_int\"] = 2\n",
    "all_df.loc[all_df[\"vehicle\"] == \"car\",\"vehicle_int\"] = 3\n",
    "all_df.loc[all_df[\"vehicle\"] == \"train\",\"vehicle_int\"] = 4\n",
    "all_df.vehicle.value_counts()"
   ]
  },
  {
   "cell_type": "code",
   "execution_count": 37,
   "id": "6eb58287-741a-484c-ad53-4c8f40004e76",
   "metadata": {},
   "outputs": [
    {
     "data": {
      "text/html": [
       "<div>\n",
       "<style scoped>\n",
       "    .dataframe tbody tr th:only-of-type {\n",
       "        vertical-align: middle;\n",
       "    }\n",
       "\n",
       "    .dataframe tbody tr th {\n",
       "        vertical-align: top;\n",
       "    }\n",
       "\n",
       "    .dataframe thead th {\n",
       "        text-align: right;\n",
       "    }\n",
       "</style>\n",
       "<table border=\"1\" class=\"dataframe\">\n",
       "  <thead>\n",
       "    <tr style=\"text-align: right;\">\n",
       "      <th></th>\n",
       "      <th>vehicle</th>\n",
       "      <th>income</th>\n",
       "      <th>num_people</th>\n",
       "      <th>vehicle_int</th>\n",
       "    </tr>\n",
       "  </thead>\n",
       "  <tbody>\n",
       "    <tr>\n",
       "      <th>3</th>\n",
       "      <td>car</td>\n",
       "      <td>35</td>\n",
       "      <td>1</td>\n",
       "      <td>3</td>\n",
       "    </tr>\n",
       "    <tr>\n",
       "      <th>7</th>\n",
       "      <td>car</td>\n",
       "      <td>30</td>\n",
       "      <td>2</td>\n",
       "      <td>3</td>\n",
       "    </tr>\n",
       "    <tr>\n",
       "      <th>11</th>\n",
       "      <td>car</td>\n",
       "      <td>40</td>\n",
       "      <td>1</td>\n",
       "      <td>3</td>\n",
       "    </tr>\n",
       "    <tr>\n",
       "      <th>15</th>\n",
       "      <td>car</td>\n",
       "      <td>70</td>\n",
       "      <td>3</td>\n",
       "      <td>3</td>\n",
       "    </tr>\n",
       "    <tr>\n",
       "      <th>19</th>\n",
       "      <td>car</td>\n",
       "      <td>45</td>\n",
       "      <td>2</td>\n",
       "      <td>3</td>\n",
       "    </tr>\n",
       "  </tbody>\n",
       "</table>\n",
       "</div>"
      ],
      "text/plain": [
       "   vehicle  income  num_people  vehicle_int\n",
       "3      car      35           1            3\n",
       "7      car      30           2            3\n",
       "11     car      40           1            3\n",
       "15     car      70           3            3\n",
       "19     car      45           2            3"
      ]
     },
     "execution_count": 37,
     "metadata": {},
     "output_type": "execute_result"
    }
   ],
   "source": [
    "all_df.head()"
   ]
  },
  {
   "cell_type": "code",
   "execution_count": 39,
   "id": "23162541-b053-424d-85b4-5958db459e09",
   "metadata": {},
   "outputs": [
    {
     "name": "stdout",
     "output_type": "stream",
     "text": [
      "Optimization terminated successfully.\n",
      "         Current function value: 1.206385\n",
      "         Iterations 6\n"
     ]
    },
    {
     "data": {
      "text/html": [
       "<table class=\"simpletable\">\n",
       "<caption>MNLogit Regression Results</caption>\n",
       "<tr>\n",
       "  <th>Dep. Variable:</th>      <td>vehicle_int</td>   <th>  No. Observations:  </th>  <td>   210</td>  \n",
       "</tr>\n",
       "<tr>\n",
       "  <th>Model:</th>                <td>MNLogit</td>     <th>  Df Residuals:      </th>  <td>   201</td>  \n",
       "</tr>\n",
       "<tr>\n",
       "  <th>Method:</th>                 <td>MLE</td>       <th>  Df Model:          </th>  <td>     6</td>  \n",
       "</tr>\n",
       "<tr>\n",
       "  <th>Date:</th>            <td>Thu, 25 Nov 2021</td> <th>  Pseudo R-squ.:     </th>  <td>0.1072</td>  \n",
       "</tr>\n",
       "<tr>\n",
       "  <th>Time:</th>                <td>10:46:56</td>     <th>  Log-Likelihood:    </th> <td> -253.34</td> \n",
       "</tr>\n",
       "<tr>\n",
       "  <th>converged:</th>             <td>True</td>       <th>  LL-Null:           </th> <td> -283.76</td> \n",
       "</tr>\n",
       "<tr>\n",
       "  <th>Covariance Type:</th>     <td>nonrobust</td>    <th>  LLR p-value:       </th> <td>3.044e-11</td>\n",
       "</tr>\n",
       "</table>\n",
       "<table class=\"simpletable\">\n",
       "<tr>\n",
       "  <th>vehicle_int=2</th>    <th>coef</th>     <th>std err</th>      <th>z</th>      <th>P>|z|</th>  <th>[0.025</th>    <th>0.975]</th>  \n",
       "</tr>\n",
       "<tr>\n",
       "  <th>Intercept</th>     <td>    1.0345</td> <td>    0.651</td> <td>    1.588</td> <td> 0.112</td> <td>   -0.242</td> <td>    2.311</td>\n",
       "</tr>\n",
       "<tr>\n",
       "  <th>income</th>        <td>   -0.0339</td> <td>    0.013</td> <td>   -2.618</td> <td> 0.009</td> <td>   -0.059</td> <td>   -0.009</td>\n",
       "</tr>\n",
       "<tr>\n",
       "  <th>num_people</th>    <td>   -0.3399</td> <td>    0.337</td> <td>   -1.009</td> <td> 0.313</td> <td>   -1.000</td> <td>    0.320</td>\n",
       "</tr>\n",
       "<tr>\n",
       "  <th>vehicle_int=3</th>    <th>coef</th>     <th>std err</th>      <th>z</th>      <th>P>|z|</th>  <th>[0.025</th>    <th>0.975]</th>  \n",
       "</tr>\n",
       "<tr>\n",
       "  <th>Intercept</th>     <td>   -0.9435</td> <td>    0.550</td> <td>   -1.716</td> <td> 0.086</td> <td>   -2.021</td> <td>    0.134</td>\n",
       "</tr>\n",
       "<tr>\n",
       "  <th>income</th>        <td>   -0.0035</td> <td>    0.010</td> <td>   -0.344</td> <td> 0.731</td> <td>   -0.024</td> <td>    0.017</td>\n",
       "</tr>\n",
       "<tr>\n",
       "  <th>num_people</th>    <td>    0.6006</td> <td>    0.199</td> <td>    3.015</td> <td> 0.003</td> <td>    0.210</td> <td>    0.991</td>\n",
       "</tr>\n",
       "<tr>\n",
       "  <th>vehicle_int=4</th>    <th>coef</th>     <th>std err</th>      <th>z</th>      <th>P>|z|</th>  <th>[0.025</th>    <th>0.975]</th>  \n",
       "</tr>\n",
       "<tr>\n",
       "  <th>Intercept</th>     <td>    1.5504</td> <td>    0.520</td> <td>    2.983</td> <td> 0.003</td> <td>    0.532</td> <td>    2.569</td>\n",
       "</tr>\n",
       "<tr>\n",
       "  <th>income</th>        <td>   -0.0609</td> <td>    0.012</td> <td>   -5.139</td> <td> 0.000</td> <td>   -0.084</td> <td>   -0.038</td>\n",
       "</tr>\n",
       "<tr>\n",
       "  <th>num_people</th>    <td>    0.2907</td> <td>    0.226</td> <td>    1.288</td> <td> 0.198</td> <td>   -0.152</td> <td>    0.733</td>\n",
       "</tr>\n",
       "</table>"
      ],
      "text/plain": [
       "<class 'statsmodels.iolib.summary.Summary'>\n",
       "\"\"\"\n",
       "                          MNLogit Regression Results                          \n",
       "==============================================================================\n",
       "Dep. Variable:            vehicle_int   No. Observations:                  210\n",
       "Model:                        MNLogit   Df Residuals:                      201\n",
       "Method:                           MLE   Df Model:                            6\n",
       "Date:                Thu, 25 Nov 2021   Pseudo R-squ.:                  0.1072\n",
       "Time:                        10:46:56   Log-Likelihood:                -253.34\n",
       "converged:                       True   LL-Null:                       -283.76\n",
       "Covariance Type:            nonrobust   LLR p-value:                 3.044e-11\n",
       "=================================================================================\n",
       "vehicle_int=2       coef    std err          z      P>|z|      [0.025      0.975]\n",
       "---------------------------------------------------------------------------------\n",
       "Intercept         1.0345      0.651      1.588      0.112      -0.242       2.311\n",
       "income           -0.0339      0.013     -2.618      0.009      -0.059      -0.009\n",
       "num_people       -0.3399      0.337     -1.009      0.313      -1.000       0.320\n",
       "---------------------------------------------------------------------------------\n",
       "vehicle_int=3       coef    std err          z      P>|z|      [0.025      0.975]\n",
       "---------------------------------------------------------------------------------\n",
       "Intercept        -0.9435      0.550     -1.716      0.086      -2.021       0.134\n",
       "income           -0.0035      0.010     -0.344      0.731      -0.024       0.017\n",
       "num_people        0.6006      0.199      3.015      0.003       0.210       0.991\n",
       "---------------------------------------------------------------------------------\n",
       "vehicle_int=4       coef    std err          z      P>|z|      [0.025      0.975]\n",
       "---------------------------------------------------------------------------------\n",
       "Intercept         1.5504      0.520      2.983      0.003       0.532       2.569\n",
       "income           -0.0609      0.012     -5.139      0.000      -0.084      -0.038\n",
       "num_people        0.2907      0.226      1.288      0.198      -0.152       0.733\n",
       "=================================================================================\n",
       "\"\"\""
      ]
     },
     "execution_count": 39,
     "metadata": {},
     "output_type": "execute_result"
    }
   ],
   "source": [
    "model1 = smf.mnlogit('vehicle_int ~ income + num_people',data = all_df).fit()\n",
    "model1.summary()"
   ]
  },
  {
   "cell_type": "code",
   "execution_count": 57,
   "id": "600844b1-7038-425f-9fd9-41862518a5d1",
   "metadata": {},
   "outputs": [
    {
     "data": {
      "image/png": "[encoded data removed]",
      "text/plain": [
       "<Figure size 432x288 with 1 Axes>"
      ]
     },
     "metadata": {
      "needs_background": "light"
     },
     "output_type": "display_data"
    }
   ],
   "source": [
    "plt.figure()\n",
    "colors = ['r','b','g','c']\n",
    "for i in set(all_df['vehicle_int']):\n",
    "    my_slice = all_df['vehicle_int'] == i\n",
    "    label = all_df[my_slice]['vehicle'].values[0]\n",
    "    plt.scatter(all_df[my_slice]['num_people'],all_df[my_slice]['income'],c = colors[i-1],label=label)\n",
    "plt.legend()\n",
    "plt.show()"
   ]
  }
 ],
 "metadata": {
  "kernelspec": {
   "display_name": "Python 3 (ipykernel)",
   "language": "python",
   "name": "python3"
  },
  "language_info": {
   "codemirror_mode": {
    "name": "ipython",
    "version": 3
   },
   "file_extension": ".py",
   "mimetype": "text/x-python",
   "name": "python",
   "nbconvert_exporter": "python",
   "pygments_lexer": "ipython3",
   "version": "3.8.8"
  }
 },
 "nbformat": 4,
 "nbformat_minor": 5
}
